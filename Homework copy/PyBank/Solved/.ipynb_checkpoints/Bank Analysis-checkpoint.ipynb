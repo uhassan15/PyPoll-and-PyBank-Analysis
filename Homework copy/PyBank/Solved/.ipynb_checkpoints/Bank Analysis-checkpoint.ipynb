{
 "cells": [
  {
   "cell_type": "code",
   "execution_count": null,
   "metadata": {},
   "outputs": [],
   "source": [
    "#Dependecies \n",
    "import pandas as pd\n",
    "import csv"
   ]
  },
  {
   "cell_type": "code",
   "execution_count": null,
   "metadata": {},
   "outputs": [],
   "source": [
    "#The path to the data file \n",
    "data_file = \"../Resources/budget_data.csv\""
   ]
  },
  {
   "cell_type": "code",
   "execution_count": null,
   "metadata": {},
   "outputs": [],
   "source": [
    "#Use pandas to read a csvfile \n",
    "data_file_pd = pd.read_csv(data_file)\n",
    "data_file_pd.head()"
   ]
  },
  {
   "cell_type": "code",
   "execution_count": null,
   "metadata": {},
   "outputs": [],
   "source": [
    "#How to find the length of months within the data file \n",
    "Summary = len(data_file_pd[\"Date\"])\n",
    "print(\"Total Months:\" +str(Summary))"
   ]
  },
  {
   "cell_type": "code",
   "execution_count": null,
   "metadata": {},
   "outputs": [],
   "source": [
    "#How to Calculate Total Revenue\n",
    "Total = data_file_pd[\"Profit/Losses\"].sum()\n",
    "print(\"Total Revenue:\" +str(Total))"
   ]
  },
  {
   "cell_type": "code",
   "execution_count": null,
   "metadata": {},
   "outputs": [],
   "source": [
    "#Create a new file to show the difference between rows\n",
    "data_file_pd[\"Difference\"] = data_file_pd[\"Profit/Losses\"].diff()\n",
    "data_file_pd.head()"
   ]
  },
  {
   "cell_type": "code",
   "execution_count": null,
   "metadata": {},
   "outputs": [],
   "source": [
    "#Calculate Average Revenue\n",
    "Average = data_file_pd[\"Difference\"].mean()\n",
    "print(\"Average Change in Revenue:\", +int(Average))"
   ]
  },
  {
   "cell_type": "code",
   "execution_count": null,
   "metadata": {},
   "outputs": [],
   "source": [
    "#Drop the profit/losses column\n",
    "data_file_pd.drop([\"Profit/Losses\"], axis=1, inplace=True)\n",
    "data_file_pd"
   ]
  },
  {
   "cell_type": "code",
   "execution_count": null,
   "metadata": {},
   "outputs": [],
   "source": [
    "#Find the greatest increase in Revenue \n",
    "Greatest_Increase_in_Revenue = data_file_pd.nlargest(1, [\"Difference\"])\n",
    "Greatest_Increase_in_Revenue"
   ]
  },
  {
   "cell_type": "code",
   "execution_count": null,
   "metadata": {},
   "outputs": [],
   "source": [
    "#Finding the greatest decrease in Revenue\n",
    "Greatest_Decrease_in_Revenue = data_file_pd.nsmallest(1, [\"Difference\"])\n",
    "Greatest_Decrease_in_Revenue"
   ]
  }
 ],
 "metadata": {
  "kernelspec": {
   "display_name": "Python 3",
   "language": "python",
   "name": "python3"
  },
  "language_info": {
   "codemirror_mode": {
    "name": "ipython",
    "version": 3
   },
   "file_extension": ".py",
   "mimetype": "text/x-python",
   "name": "python",
   "nbconvert_exporter": "python",
   "pygments_lexer": "ipython3",
   "version": "3.7.4"
  }
 },
 "nbformat": 4,
 "nbformat_minor": 2
}
